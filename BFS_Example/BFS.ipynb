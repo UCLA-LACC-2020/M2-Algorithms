{
 "cells": [
  {
   "cell_type": "markdown",
   "metadata": {},
   "source": [
    "## Breath-first Search Exercise"
   ]
  },
  {
   "cell_type": "markdown",
   "metadata": {},
   "source": [
    "In this exercise, you will be implementing a BFS algorithm on you own."
   ]
  },
  {
   "cell_type": "code",
   "execution_count": null,
   "metadata": {},
   "outputs": [],
   "source": [
    "# Firstly we give a visualization of the Graph that you will be using: \n",
    "# Source (Graph Visualization): https://www.geeksforgeeks.org/python-visualize-graphs-generated-in-networkx-using-matplotlib/\n",
    "\n",
    "import networkx as nx \n",
    "\n",
    "import matplotlib.pyplot as plt \n",
    "  \n",
    "g = nx.Graph() \n",
    "\n",
    "g.add_edge(0, 8)\n",
    "g.add_edge(1, 2)\n",
    "g.add_edge(1, 4) \n",
    "g.add_edge(1, 5) \n",
    "g.add_edge(1, 12)\n",
    "g.add_edge(2, 3) \n",
    "g.add_edge(2, 9)\n",
    "g.add_edge(2, 10)\n",
    "g.add_edge(3, 4)\n",
    "g.add_edge(3, 8) \n",
    "g.add_edge(3, 9)\n",
    "g.add_edge(3, 11)\n",
    "g.add_edge(4, 8)\n",
    "g.add_edge(5, 6) \n",
    "g.add_edge(5, 7) \n",
    "g.add_edge(5, 12)\n",
    "g.add_edge(9, 11)\n",
    "\n",
    "nx.draw_spring(g, with_labels = True) "
   ]
  },
  {
   "cell_type": "code",
   "execution_count": null,
   "metadata": {},
   "outputs": [],
   "source": [
    "# This line explains how BFS works   \n",
    "list(nx.bfs_successors(g, 0))"
   ]
  },
  {
   "cell_type": "code",
   "execution_count": null,
   "metadata": {},
   "outputs": [],
   "source": [
    "# Sample Output of BFS\n",
    "visit_order = list(nx.bfs_predecessors(g, 0))\n",
    "print(\"Visiting Order is:\", end=\"\\t\")\n",
    "for k in range(0, len(visit_order)):\n",
    "    i = visit_order[k][0]\n",
    "    j = visit_order[k][1]\n",
    "    if k==0:\n",
    "        print(j, end=\"\\t\")\n",
    "    print(i, end=\"\\t\")"
   ]
  },
  {
   "cell_type": "code",
   "execution_count": 1,
   "metadata": {},
   "outputs": [],
   "source": [
    "# Define the graph structure on our own:\n",
    "class GNode:\n",
    "    def __init__(self, val = 0, neighbors = None):\n",
    "        self.val = val\n",
    "        self.neighbors = neighbors if neighbors is not None else []\n",
    "        \n",
    "        \n",
    "class Graph:\n",
    "    def __init__(self):\n",
    "        self.nodes = [GNode(i) for i in range(0, 13)]\n",
    "    def add_edge(self, a, b):\n",
    "        self.nodes[a].neighbors.append(b) \n",
    "        self.nodes[b].neighbors.append(a) \n",
    "    \n",
    "g = Graph() \n",
    "\n",
    "g.add_edge(0, 8)\n",
    "g.add_edge(1, 2)\n",
    "g.add_edge(1, 4) \n",
    "g.add_edge(1, 5) \n",
    "g.add_edge(1, 12)\n",
    "g.add_edge(2, 3) \n",
    "g.add_edge(2, 9)\n",
    "g.add_edge(2, 10)\n",
    "g.add_edge(3, 4)\n",
    "g.add_edge(3, 8) \n",
    "g.add_edge(3, 9)\n",
    "g.add_edge(3, 11)\n",
    "g.add_edge(4, 8)\n",
    "g.add_edge(5, 6) \n",
    "g.add_edge(5, 7) \n",
    "g.add_edge(5, 12)\n",
    "g.add_edge(9, 11)\n"
   ]
  },
  {
   "cell_type": "code",
   "execution_count": 2,
   "metadata": {},
   "outputs": [],
   "source": [
    " # BFS Coding\n",
    "def enqueue(my_list, val):\n",
    "    my_list.append(val)\n",
    "    return\n",
    "\n",
    "def dequeue(my_list):\n",
    "    a = my_list.pop(0)\n",
    "    return a\n",
    "    \n",
    "    \n",
    "def my_bfs(g, s=0):\n",
    "    '''\n",
    "    Input\n",
    "    g: the graph: Graph object\n",
    "    s: the starting node: GNode object\n",
    "    \n",
    "    Output:\n",
    "    Print the order that all nodes are visited\n",
    "    '''\n",
    "    marked = []\n",
    "    my_queue = [s]  # initialize the queue with the starting point\n",
    "    \n",
    "    print(\"Visiting Order is:\", end=\"\\t\")\n",
    "    while len(my_queue):\n",
    "        \n",
    "        curr_node_idx = dequeue(my_queue) # Dequeue one node\n",
    "        curr_node = g.nodes[curr_node_idx]\n",
    "        if curr_node not in marked:\n",
    "            print(curr_node_idx, end=\"\\t\")\n",
    "        \n",
    "        marked.append(curr_node_idx) # Mark as visited\n",
    "        \n",
    "        for neighbor in curr_node.neighbors: # Enqueue all its unvisited neighours\n",
    "            if neighbor not in marked:\n",
    "                enqueue(my_queue, neighbor)\n",
    "                marked.append(neighbor)\n",
    "#         print(my_queue)\n",
    "    return"
   ]
  },
  {
   "cell_type": "code",
   "execution_count": null,
   "metadata": {},
   "outputs": [],
   "source": [
    "my_bfs(g, s=0)"
   ]
  },
  {
   "cell_type": "code",
   "execution_count": null,
   "metadata": {},
   "outputs": [],
   "source": [
    "print(\"Reference result:\")\n",
    "print(\"Visiting Order is:\t0\t8\t3\t4\t2\t9\t11\t1\t10\t5\t12\t6\t7\")"
   ]
  }
 ],
 "metadata": {
  "kernelspec": {
   "display_name": "Python 3",
   "language": "python",
   "name": "python3"
  },
  "language_info": {
   "codemirror_mode": {
    "name": "ipython",
    "version": 3
   },
   "file_extension": ".py",
   "mimetype": "text/x-python",
   "name": "python",
   "nbconvert_exporter": "python",
   "pygments_lexer": "ipython3",
   "version": "3.7.6"
  }
 },
 "nbformat": 4,
 "nbformat_minor": 4
}

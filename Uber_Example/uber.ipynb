{
 "cells": [
  {
   "cell_type": "markdown",
   "metadata": {},
   "source": [
    "# Taxi Pricing Exercise"
   ]
  },
  {
   "cell_type": "markdown",
   "metadata": {},
   "source": [
    "Taxi fees is calculated as below: <br>\n",
    "<li> The first 3 miles are accociated with a flat fee 8\\$ <br>\n",
    "<li> After that, the price is 1.7\\$/mile <br>\n",
    "Example: It is 13 miles from UCLA to LAX, the price will be  $8 + (13-3) \\times 1.7 = 25\\$ $ <br>\n",
    "Write a code to calculate the price of any milages."
   ]
  },
  {
   "cell_type": "code",
   "execution_count": null,
   "metadata": {},
   "outputs": [],
   "source": [
    "def taxi_price(num_miles):\n",
    "    price = 0\n",
    "    #############################\n",
    "    \n",
    "    # Your code here\n",
    "    \n",
    "    #############################\n",
    "    return price"
   ]
  },
  {
   "cell_type": "code",
   "execution_count": null,
   "metadata": {},
   "outputs": [],
   "source": [
    "n_miles = eval(input(\"Your milage:\"))\n",
    "print(\"Your price is {}\".format(taxi_price))"
   ]
  }
 ],
 "metadata": {
  "kernelspec": {
   "display_name": "Python 3",
   "language": "python",
   "name": "python3"
  },
  "language_info": {
   "codemirror_mode": {
    "name": "ipython",
    "version": 3
   },
   "file_extension": ".py",
   "mimetype": "text/x-python",
   "name": "python",
   "nbconvert_exporter": "python",
   "pygments_lexer": "ipython3",
   "version": "3.7.6"
  }
 },
 "nbformat": 4,
 "nbformat_minor": 4
}
